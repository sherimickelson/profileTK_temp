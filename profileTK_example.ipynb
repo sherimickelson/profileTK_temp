{
 "cells": [
  {
   "cell_type": "code",
   "execution_count": null,
   "metadata": {},
   "outputs": [],
   "source": [
    "from IPython.display import HTML\n",
    "\n",
    "import pandas as pd\n",
    "import xarray as xr\n",
    "\n",
    "import matplotlib.pyplot as plt\n",
    "%matplotlib inline"
   ]
  },
  {
   "cell_type": "markdown",
   "metadata": {},
   "source": [
    "### This package gathers profiling information from pyinstrument, line_profiler, and memory_profiler and returns a pandas dataframe or prints the information directly."
   ]
  },
  {
   "cell_type": "code",
   "execution_count": null,
   "metadata": {},
   "outputs": [],
   "source": [
    "import profiletk"
   ]
  },
  {
   "cell_type": "code",
   "execution_count": null,
   "metadata": {},
   "outputs": [],
   "source": [
    "ptk = profiletk.ProfileTK()"
   ]
  },
  {
   "cell_type": "markdown",
   "metadata": {},
   "source": [
    "### Create an array of files that we're interested in looking at within this example."
   ]
  },
  {
   "cell_type": "code",
   "execution_count": null,
   "metadata": {},
   "outputs": [],
   "source": [
    "fns = [\n",
    "    'wrfout_d01_1979-01-01-01_00:00:00_2D.nc',\n",
    "    'wrfout_d01_1979-01-01-01_00:00:00_3D.nc',\n",
    "    'mpas_output.nc',\n",
    "    'b40.20th.track1.1deg.006.cam2.h0.TS.185001-185012.nc',\n",
    "    'b40.20th.track1.1deg.006.cam2.h0.T.185001-185012.nc',\n",
    "    'b.e21.BWmaHIST.f19_g17.PMIP4-past1000.001.cice.h.0850-01.nc',\n",
    "    'b.e21.BWmaHIST.f19_g17.PMIP4-past1000.001.clm2.h0.0850-01.nc',\n",
    "    'b.e21.BWmaHIST.f19_g17.PMIP4-past1000.001.pop.h.0850-01.nc',\n",
    "    'b.e21.BWmaHIST.f19_g17.PMIP4-past1000.001.cam.h0.0850-01.nc'\n",
    "]"
   ]
  },
  {
   "cell_type": "markdown",
   "metadata": {},
   "source": [
    "### Fill the pandas dataframe with timing information from calling xr.open_dataset for different files and different arguments."
   ]
  },
  {
   "cell_type": "code",
   "execution_count": null,
   "metadata": {},
   "outputs": [],
   "source": [
    "for fn in fns:\n",
    "    key = fn+'.defaults'\n",
    "    ptk.collect_functional_times(key=key, func=xr.open_dataset, filename_or_obj='data/'+fn)\n",
    "for fn in fns:\n",
    "    key = fn+'.preferred'\n",
    "    ptk.collect_functional_times(key=key, func=xr.open_dataset, filename_or_obj='data/'+fn, decode_times=False, mask_and_scale=False, decode_cf=False)\n",
    "    "
   ]
  },
  {
   "cell_type": "markdown",
   "metadata": {},
   "source": [
    "### Print the dataframe that was just created"
   ]
  },
  {
   "cell_type": "code",
   "execution_count": null,
   "metadata": {},
   "outputs": [],
   "source": [
    "ptk.timingsDF"
   ]
  },
  {
   "cell_type": "markdown",
   "metadata": {},
   "source": [
    "### Get a list of keys within the dataframe"
   ]
  },
  {
   "cell_type": "code",
   "execution_count": null,
   "metadata": {},
   "outputs": [],
   "source": [
    "pd.options.display.max_colwidth = 10000\n",
    "pd.set_option('display.width', 1000)\n",
    "ptk.timingsDF['key']"
   ]
  },
  {
   "cell_type": "markdown",
   "metadata": {},
   "source": [
    "### Create a line plot that looks at the performance of different functions across the different keys"
   ]
  },
  {
   "cell_type": "code",
   "execution_count": null,
   "metadata": {},
   "outputs": [],
   "source": [
    "ptk.timingsDF.sort_values('open_dataset').plot(x=\"key\", y=['open_dataset', 'decode_cf_variable', 'as_variable'], alpha=0.50, rot=90)"
   ]
  },
  {
   "cell_type": "markdown",
   "metadata": {},
   "source": [
    "### Create a horizontal bar plot that plots the time to run a function across all keys"
   ]
  },
  {
   "cell_type": "code",
   "execution_count": null,
   "metadata": {},
   "outputs": [],
   "source": [
    "import seaborn as sns\n",
    "\n",
    "sns.factorplot(y='key',x='as_variable',kind='bar',data=ptk.timingsDF.sort_values('as_variable'))"
   ]
  },
  {
   "cell_type": "markdown",
   "metadata": {},
   "source": [
    "### Print the full timeline profile generated from pyinstument"
   ]
  },
  {
   "cell_type": "code",
   "execution_count": null,
   "metadata": {},
   "outputs": [],
   "source": [
    "print(ptk.profiles['mpas_output.nc.preferred'])"
   ]
  },
  {
   "cell_type": "markdown",
   "metadata": {},
   "source": [
    "### Populate the pandas dataframe from a function that the user creates"
   ]
  },
  {
   "cell_type": "code",
   "execution_count": null,
   "metadata": {},
   "outputs": [],
   "source": [
    "def open_read(fn):\n",
    "    ds = xr.open_dataset(fn)\n",
    "    for v in ds.variables:\n",
    "        t = v\n",
    "for fn in fns:\n",
    "    key = fn+'.defaults'\n",
    "    ptk.collect_functional_times(key=key, func=open_read, fn='data/'+fn)"
   ]
  },
  {
   "cell_type": "markdown",
   "metadata": {},
   "source": [
    "### Print the functions in order desending from the most expensive.  Also prints the depth this function is found within the call tree."
   ]
  },
  {
   "cell_type": "code",
   "execution_count": null,
   "metadata": {},
   "outputs": [],
   "source": [
    "ptk.print_timer_hotspots('mpas_output.nc.defaults', l=25)"
   ]
  },
  {
   "cell_type": "markdown",
   "metadata": {},
   "source": [
    "### Provides a print out of the line by line timings for the selected functions"
   ]
  },
  {
   "cell_type": "code",
   "execution_count": null,
   "metadata": {},
   "outputs": [],
   "source": [
    "ptk.collect_linebyline_times(func=xr.open_dataset, o_funcs=[xr.backends.api._protect_dataset_variables_inplace],filename_or_obj='data/wrfout_d01_1979-01-01-01_00:00:00_2D.nc', decode_times=False, mask_and_scale=False, decode_cf=False)"
   ]
  },
  {
   "cell_type": "markdown",
   "metadata": {},
   "source": [
    "### Provides a print out of the line by line memory usage for the selected functions"
   ]
  },
  {
   "cell_type": "code",
   "execution_count": null,
   "metadata": {},
   "outputs": [],
   "source": [
    "ptk.collect_linebyline_memory_usage(func=xr.open_dataset, o_funcs=[xr.conventions.decode_cf_variable, xr.core.variable.as_variable],filename_or_obj='data/wrfout_d01_1979-01-01-01_00:00:00_2D.nc', decode_times=False, mask_and_scale=False, decode_cf=False)"
   ]
  },
  {
   "cell_type": "markdown",
   "metadata": {},
   "source": [
    "### Prints out the highwater mark for memory usage for the selected function"
   ]
  },
  {
   "cell_type": "code",
   "execution_count": null,
   "metadata": {},
   "outputs": [],
   "source": [
    "ptk.collect_memory_usage(func=xr.open_dataset,filename_or_obj='data/wrfout_d01_1979-01-01-01_00:00:00_2D.nc', decode_times=False, mask_and_scale=False, decode_cf=False)"
   ]
  },
  {
   "cell_type": "markdown",
   "metadata": {},
   "source": [
    "### Print the memory hotspots"
   ]
  },
  {
   "cell_type": "code",
   "execution_count": null,
   "metadata": {},
   "outputs": [],
   "source": [
    "ptk.print_memory_hotspots(func=xr.open_dataset,l=5,filename_or_obj='data/wrfout_d01_1979-01-01-01_00:00:00_2D.nc', decode_times=False, mask_and_scale=False, decode_cf=False)"
   ]
  },
  {
   "cell_type": "markdown",
   "metadata": {},
   "source": [
    "### Create a call graph"
   ]
  },
  {
   "cell_type": "code",
   "execution_count": null,
   "metadata": {},
   "outputs": [],
   "source": [
    "from IPython.display import Image\n",
    "\n",
    "img_fn = 'call_graph.png'\n",
    "ptk.show_call_graph(func=xr.open_dataset,fn=img_fn,filename_or_obj='data/wrfout_d01_1979-01-01-01_00:00:00_2D.nc', decode_times=False, mask_and_scale=False, decode_cf=False)\n",
    "\n",
    "Image(filename = img_fn)"
   ]
  },
  {
   "cell_type": "code",
   "execution_count": null,
   "metadata": {},
   "outputs": [],
   "source": []
  }
 ],
 "metadata": {
  "kernelspec": {
   "display_name": "Python 3",
   "language": "python",
   "name": "python3"
  },
  "language_info": {
   "codemirror_mode": {
    "name": "ipython",
    "version": 3
   },
   "file_extension": ".py",
   "mimetype": "text/x-python",
   "name": "python",
   "nbconvert_exporter": "python",
   "pygments_lexer": "ipython3",
   "version": "3.8.3"
  }
 },
 "nbformat": 4,
 "nbformat_minor": 4
}
