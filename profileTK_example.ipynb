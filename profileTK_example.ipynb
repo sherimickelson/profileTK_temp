{
 "cells": [
  {
   "cell_type": "code",
   "execution_count": null,
   "metadata": {},
   "outputs": [],
   "source": [
    "from IPython.display import HTML\n",
    "\n",
    "import pandas as pd\n",
    "import xarray as xr\n",
    "\n",
    "import matplotlib.pyplot as plt\n",
    "%matplotlib inline"
   ]
  },
  {
   "cell_type": "markdown",
   "metadata": {},
   "source": [
    "# ProfileTK\n",
    "#### (a profiling toolkit)\n",
    "\n",
    "This package combines pyinstrument, line_profiler, memory_profiler, tracemalloc, and pycallgraph\n",
    "in order to provide a seemless and constant interface between them.  We provide timing profiles\n",
    "that can be analyized across different parameters, standalone timing profiles by function call\n",
    "and line by line, memory profiles by function call and line by line, and call graphs color coded \n",
    "by runtime costs."
   ]
  },
  {
   "cell_type": "code",
   "execution_count": null,
   "metadata": {},
   "outputs": [],
   "source": [
    "import profiletk"
   ]
  },
  {
   "cell_type": "code",
   "execution_count": null,
   "metadata": {},
   "outputs": [],
   "source": [
    "ptk = profiletk.ProfileTK()"
   ]
  },
  {
   "cell_type": "markdown",
   "metadata": {},
   "source": [
    "\n",
    "\n",
    "\n",
    "### Let's walk through an example where we're interested in gathering timing information across many different parameters.  In this case we're interested in looking at comparing the time it takes to open different types of netcdf files and using different arguments."
   ]
  },
  {
   "cell_type": "markdown",
   "metadata": {},
   "source": [
    "First we'll set the files we'll loop over."
   ]
  },
  {
   "cell_type": "code",
   "execution_count": null,
   "metadata": {},
   "outputs": [],
   "source": [
    "fns = [\n",
    "    'data/wrfout_d01_1979-01-01-01_00:00:00_2D.nc',\n",
    "    'data/wrfout_d01_1979-01-01-01_00:00:00_3D.nc',\n",
    "    'data/mpas_output.nc',\n",
    "    'data/b40.20th.track1.1deg.006.cam2.h0.TS.185001-185012.nc',\n",
    "    'data/b40.20th.track1.1deg.006.cam2.h0.T.185001-185012.nc',\n",
    "    'data/b.e21.BWmaHIST.f19_g17.PMIP4-past1000.001.cice.h.0850-01.nc',\n",
    "    'data/b.e21.BWmaHIST.f19_g17.PMIP4-past1000.001.clm2.h0.0850-01.nc',\n",
    "    'data/b.e21.BWmaHIST.f19_g17.PMIP4-past1000.001.pop.h.0850-01.nc',\n",
    "    'data/b.e21.BWmaHIST.f19_g17.PMIP4-past1000.001.cam.h0.0850-01.nc'\n",
    "]"
   ]
  },
  {
   "cell_type": "markdown",
   "metadata": {},
   "source": [
    "Now we'll loop over those file names with two different sets of parameters and get a set of timings.  To do this, we'll call `ptk.collect_functional_times`.\n",
    "```\n",
    "    def collect_functional_times(self, key: str, func: callable, *args, **kwargs):\n",
    "        \n",
    "        Profiles a function with pyinstrument and populate the new timings into the dataframe.\n",
    "\n",
    "        Parameters\n",
    "        ----------\n",
    "        key : str\n",
    "            The unique identifier asigned to this new entry within the dataframe.\n",
    "        func : callable\n",
    "            The function to profile. \n",
    "        args : list, optional\n",
    "            A list of arguments to pass to the function that is being profiled.\n",
    "        kwargs : dict, optional\n",
    "            A dictionary of keyword, value arguments to pass to the function that is being profiled.\n",
    "\n",
    "        \n",
    "```"
   ]
  },
  {
   "cell_type": "code",
   "execution_count": null,
   "metadata": {},
   "outputs": [],
   "source": [
    "for fn in fns:\n",
    "    key = fn+'.defaults'\n",
    "    ptk.collect_functional_times(key, xr.open_dataset, fn)\n",
    "for fn in fns:\n",
    "    key = fn+'.preferred'\n",
    "    ptk.collect_functional_times(key, xr.open_dataset, fn, decode_times=False, mask_and_scale=False, decode_cf=False)\n",
    "    "
   ]
  },
  {
   "cell_type": "markdown",
   "metadata": {},
   "source": [
    "Now we can try printing the dataframe we just filled."
   ]
  },
  {
   "cell_type": "code",
   "execution_count": null,
   "metadata": {},
   "outputs": [],
   "source": [
    "ptk.timingsDF"
   ]
  },
  {
   "cell_type": "markdown",
   "metadata": {},
   "source": [
    "We can use query the dataframe for the different keys that were added."
   ]
  },
  {
   "cell_type": "code",
   "execution_count": null,
   "metadata": {},
   "outputs": [],
   "source": [
    "pd.options.display.max_colwidth = 10000\n",
    "pd.set_option('display.width', 1000)\n",
    "ptk.timingsDF['key']"
   ]
  },
  {
   "cell_type": "markdown",
   "metadata": {},
   "source": [
    "We can use the dataframe for any type of analysis we're interested in.  Here we create a line plot that looks at the time it takes to run the selected functions across the different files."
   ]
  },
  {
   "cell_type": "code",
   "execution_count": null,
   "metadata": {},
   "outputs": [],
   "source": [
    "ptk.timingsDF.sort_values('open_dataset').plot(x=\"key\", y=['open_dataset', 'decode_cf_variable', 'as_variable'], alpha=0.50, rot=90)"
   ]
  },
  {
   "cell_type": "markdown",
   "metadata": {},
   "source": [
    "Here we create a horizontal bar plot that plots the time to run a function across all keys."
   ]
  },
  {
   "cell_type": "code",
   "execution_count": null,
   "metadata": {},
   "outputs": [],
   "source": [
    "import seaborn as sns\n",
    "\n",
    "sns.factorplot(y='key',x='as_variable',kind='bar',data=ptk.timingsDF.sort_values('as_variable'))"
   ]
  },
  {
   "cell_type": "markdown",
   "metadata": {},
   "source": [
    "We can also use the `ptk.profiles` object to get the full timeline profile from pyinstrument."
   ]
  },
  {
   "cell_type": "code",
   "execution_count": null,
   "metadata": {},
   "outputs": [],
   "source": [
    "print(ptk.profiles['data/mpas_output.nc.preferred'])"
   ]
  },
  {
   "cell_type": "markdown",
   "metadata": {},
   "source": [
    "Here we call the `ptk.collect_functional_times` function for a function that we created."
   ]
  },
  {
   "cell_type": "code",
   "execution_count": null,
   "metadata": {},
   "outputs": [],
   "source": [
    "def open_read(fn):\n",
    "    ds = xr.open_dataset(fn)\n",
    "    for v in ds.variables:\n",
    "        t = v\n",
    "for fn in fns:\n",
    "    key = fn+'.defaults'\n",
    "    ptk.collect_functional_times(key=key, func=open_read, fn=fn)"
   ]
  },
  {
   "cell_type": "markdown",
   "metadata": {},
   "source": [
    "## Other functionality we provide"
   ]
  },
  {
   "cell_type": "markdown",
   "metadata": {},
   "source": [
    "#### Create a call graph.\n",
    "\n",
    "    def show_call_graph(self, func: callable, fn: str, *args, **kwargs):\n",
    "        \"\"\"\n",
    "        Creates a call graph for the speficed function that is color coded to indicate which functions\n",
    "        take longer to run.\n",
    "\n",
    "        This requires an install of graphviz (https://www.graphviz.org/).  \n",
    "\n",
    "        Parameters\n",
    "        ----------\n",
    "        func : callable\n",
    "            The function to profile. \n",
    "        fn : str\n",
    "            The name of the filename to save the graph image to. \n",
    "        args : list, optional\n",
    "            A list of arguments to pass to the function that is being profiled.\n",
    "        kwargs : dict, optional\n",
    "            A dictionary of keyword, value arguments to pass to the function that is being profiled.\n",
    "\n"
   ]
  },
  {
   "cell_type": "code",
   "execution_count": null,
   "metadata": {},
   "outputs": [],
   "source": [
    "from IPython.display import Image\n",
    "\n",
    "img_fn = 'call_graph.png'\n",
    "ptk.show_call_graph(func=xr.open_dataset,\n",
    "                    fn=img_fn,filename_or_obj=fns[0], \n",
    "                    decode_times=False, mask_and_scale=False, decode_cf=False)\n",
    "\n",
    "Image(filename = img_fn)"
   ]
  },
  {
   "cell_type": "markdown",
   "metadata": {},
   "source": [
    "#### We also provide a function that prints the hotspots of a function call.\n",
    "\n",
    "    def print_timer_hotspots(self, key: str, l=25):\n",
    "        \n",
    "        Prints the function names within the specified profile in descenting oder based on run time.\n",
    "        This function prints the rank, the run time, the function name, file name and line number, and \n",
    "        the call tree depth.  This function uses the timing information provided by pyinstrument gathered \n",
    "        from the call to collect_functional_times. \n",
    "\n",
    "        Parameters\n",
    "        ----------\n",
    "        key : str\n",
    "            The unique identifier of a profile that was set within the call to collect_functional_times.\n",
    "        l : int\n",
    "            The number of functions to print.\n",
    " \n",
    "        \n"
   ]
  },
  {
   "cell_type": "code",
   "execution_count": null,
   "metadata": {},
   "outputs": [],
   "source": [
    "ptk.print_timer_hotspots('data/mpas_output.nc.defaults', l=25)"
   ]
  },
  {
   "cell_type": "markdown",
   "metadata": {},
   "source": [
    " "
   ]
  },
  {
   "cell_type": "markdown",
   "metadata": {},
   "source": [
    "#### A print out of the line by line timings for the selected functions.\n",
    "\n",
    "    def collect_linebyline_times(self, func: callable, o_funcs: list, *args, **kwargs):\n",
    "        \n",
    "        Calls the line_profiler utility to collect line by line timing information for specified functions.  \n",
    "        New information is gathered each time this function is called so some variability exists between calls. \n",
    "\n",
    "        Parameters\n",
    "        ----------\n",
    "        func : callable\n",
    "            The function to profile. \n",
    "        o_funcs : list\n",
    "            A list of additional functions to profile.  These must be in the call tree of the function\n",
    "            specified in the func argument.\n",
    "        args : list, optional\n",
    "            A list of arguments to pass to the function that is being profiled.\n",
    "        kwargs : dict, optional\n",
    "            A dictionary of keyword, value arguments to pass to the function that is being profiled.\n",
    "\n",
    "        "
   ]
  },
  {
   "cell_type": "code",
   "execution_count": null,
   "metadata": {},
   "outputs": [],
   "source": [
    "ptk.collect_linebyline_times(func=xr.open_dataset, \n",
    "                             o_funcs=[xr.backends.api._protect_dataset_variables_inplace],\n",
    "                             filename_or_obj=fns[0], \n",
    "                             decode_times=False, mask_and_scale=False, decode_cf=False)"
   ]
  },
  {
   "cell_type": "markdown",
   "metadata": {},
   "source": [
    " "
   ]
  },
  {
   "cell_type": "markdown",
   "metadata": {},
   "source": [
    "#### A print out of the line by line memory usage for the selected functions.\n",
    "\n",
    "    def collect_linebyline_memory_usage(self, func: callable, o_funcs: list, *args, **kwargs):\n",
    "        \n",
    "        Calls the memory_profiler utility to collect line by line memory information for specified functions.  \n",
    "        New information is gathered each time this function is called so some variability exists between calls. \n",
    "\n",
    "        Parameters\n",
    "        ----------\n",
    "        func : callable\n",
    "            The function to profile. \n",
    "        o_funcs : list\n",
    "            A list of additional functions to profile.  These must be in the call tree of the function\n",
    "            specified in the func argument.\n",
    "        args : list, optional\n",
    "            A list of arguments to pass to the function that is being profiled.\n",
    "        kwargs : dict, optional\n",
    "            A dictionary of keyword, value arguments to pass to the function that is being profiled.\n",
    "\n",
    "        \n"
   ]
  },
  {
   "cell_type": "code",
   "execution_count": null,
   "metadata": {},
   "outputs": [],
   "source": [
    "ptk.collect_linebyline_memory_usage(func=xr.open_dataset, \n",
    "                                    o_funcs=[xr.conventions.decode_cf_variable, xr.core.variable.as_variable],\n",
    "                                    filename_or_obj=fns[0], \n",
    "                                    decode_times=False, mask_and_scale=False, decode_cf=False)"
   ]
  },
  {
   "cell_type": "markdown",
   "metadata": {},
   "source": [
    " "
   ]
  },
  {
   "cell_type": "markdown",
   "metadata": {},
   "source": [
    "#### Print out the highwater mark for memory usage for the selected function.\n",
    "\n",
    "    def collect_memory_usage(self, func: callable, *args, **kwargs):\n",
    "        \n",
    "        Calls the memory_profiler utility to collect the high water memory information for the specified function.  \n",
    "        New information is gathered each time this function is called so some variability exists between calls. \n",
    "\n",
    "        Parameters\n",
    "        ----------\n",
    "        func : callable\n",
    "            The function to profile. \n",
    "        args : list, optional\n",
    "            A list of arguments to pass to the function that is being profiled.\n",
    "        kwargs : dict, optional\n",
    "            A dictionary of keyword, value arguments to pass to the function that is being profiled.\n",
    "\n",
    " \n"
   ]
  },
  {
   "cell_type": "code",
   "execution_count": null,
   "metadata": {},
   "outputs": [],
   "source": [
    "ptk.collect_memory_usage(func=xr.open_dataset,\n",
    "                         filename_or_obj=fns[0], \n",
    "                         decode_times=False, mask_and_scale=False, decode_cf=False)"
   ]
  },
  {
   "cell_type": "markdown",
   "metadata": {},
   "source": [
    " "
   ]
  },
  {
   "cell_type": "markdown",
   "metadata": {},
   "source": [
    "#### Print the memory hotspots.\n",
    "\n",
    "    def print_memory_hotspots(self, func: callable, l=10, *args, **kwargs):\n",
    "        \n",
    "        Prints the memory hotspots within the selected function by calling tracemalloc in descending order.  \n",
    "        This function prints the rank, the location of the code, size, and line of code.  New information\n",
    "        is gathered each time this function is called so some variability may exist between calls.  \n",
    "\n",
    "        Parameters\n",
    "        ----------\n",
    "        func : callable\n",
    "            The function to profile. \n",
    "        l : int\n",
    "            The number of hotspots to print.\n",
    "        args : list, optional\n",
    "            A list of arguments to pass to the function that is being profiled.\n",
    "        kwargs : dict, optional\n",
    "            A dictionary of keyword, value arguments to pass to the function that is being profiled.         \n",
    "\n"
   ]
  },
  {
   "cell_type": "code",
   "execution_count": null,
   "metadata": {},
   "outputs": [],
   "source": [
    "ptk.print_memory_hotspots(func=xr.open_dataset,\n",
    "                          l=5,\n",
    "                          filename_or_obj=fns[0], \n",
    "                          decode_times=False, mask_and_scale=False, decode_cf=False)"
   ]
  },
  {
   "cell_type": "markdown",
   "metadata": {},
   "source": [
    " "
   ]
  }
 ],
 "metadata": {
  "kernelspec": {
   "display_name": "Python 3",
   "language": "python",
   "name": "python3"
  },
  "language_info": {
   "codemirror_mode": {
    "name": "ipython",
    "version": 3
   },
   "file_extension": ".py",
   "mimetype": "text/x-python",
   "name": "python",
   "nbconvert_exporter": "python",
   "pygments_lexer": "ipython3",
   "version": "3.8.3"
  }
 },
 "nbformat": 4,
 "nbformat_minor": 4
}
